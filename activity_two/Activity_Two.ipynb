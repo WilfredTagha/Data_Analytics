{
 "cells": [
  {
   "cell_type": "code",
   "execution_count": 95,
   "id": "ca6eff62",
   "metadata": {},
   "outputs": [],
   "source": [
    "import pandas as pd\n",
    "import numpy as np\n",
    "%matplotlib inline\n",
    "import matplotlib.pyplot as plt\n"
   ]
  },
  {
   "cell_type": "code",
   "execution_count": null,
   "id": "532cc641",
   "metadata": {},
   "outputs": [],
   "source": []
  },
  {
   "cell_type": "code",
   "execution_count": 96,
   "id": "74098387",
   "metadata": {},
   "outputs": [],
   "source": [
    "emp_df = pd.read_csv(\"E:/emp_data.csv\")"
   ]
  },
  {
   "cell_type": "markdown",
   "id": "a0097bd6",
   "metadata": {},
   "source": [
    "### QUESTIONS TO ANALISE\n",
    ">**QUESTION ONE:** Which division is the highest paying \n",
    "\n",
    ">**QUESTION TWO:**Are there more females or males in the top and least paying department\n",
    "\n",
    ">**QUESTION THREE:** How many additional workers will be needed for each department\n"
   ]
  },
  {
   "cell_type": "code",
   "execution_count": null,
   "id": "b0e8cbe3",
   "metadata": {},
   "outputs": [],
   "source": []
  },
  {
   "cell_type": "markdown",
   "id": "e772eec0",
   "metadata": {},
   "source": [
    "### DATA CLEANING"
   ]
  },
  {
   "cell_type": "code",
   "execution_count": 97,
   "id": "95047336",
   "metadata": {},
   "outputs": [
    {
     "data": {
      "text/plain": [
       "Department                         6\n",
       "Department Name                    4\n",
       "Division                           0\n",
       "Gender                             0\n",
       "Base Salary                        4\n",
       "How much pay for overtime/year?    0\n",
       "dtype: int64"
      ]
     },
     "execution_count": 97,
     "metadata": {},
     "output_type": "execute_result"
    }
   ],
   "source": [
    "emp_df.isnull().sum()"
   ]
  },
  {
   "cell_type": "markdown",
   "id": "46232ad0",
   "metadata": {},
   "source": [
    ">There are a maximum of sixteen rows with missing data so i'll just drop all the rows with missing data\n",
    "because sixteen is a very small fraction of the whole data set"
   ]
  },
  {
   "cell_type": "code",
   "execution_count": 98,
   "id": "da6f6bd1",
   "metadata": {},
   "outputs": [],
   "source": [
    "emp_df.dropna(inplace=True)\n"
   ]
  },
  {
   "cell_type": "markdown",
   "id": "6e794da0",
   "metadata": {},
   "source": [
    ">some column names are spaced out, i'll rename them. Department Name to Dept_Name, Base Salary to B_salary and How much pay for overtime/year to over_time_per_year\n"
   ]
  },
  {
   "cell_type": "code",
   "execution_count": 99,
   "id": "91759317",
   "metadata": {},
   "outputs": [],
   "source": [
    "emp_df.rename(columns={\"Department Name\" : \"Dept_Name\", \"Base Salary\" : \"Base_Salary\", \"How much pay for overtime/year?\" : \"overtime_per_year\"}, inplace=True ) "
   ]
  },
  {
   "cell_type": "markdown",
   "id": "a1d8f0d7",
   "metadata": {},
   "source": [
    ">Basic inforation about the number of departments and divisions\n"
   ]
  },
  {
   "cell_type": "code",
   "execution_count": 100,
   "id": "ca6c98a2",
   "metadata": {},
   "outputs": [
    {
     "name": "stdout",
     "output_type": "stream",
     "text": [
      "Number of Departments: 37\n",
      "Number of Division: 705\n"
     ]
    }
   ],
   "source": [
    "print(f'Number of Departments: {emp_df.Department.nunique()}')  \n",
    "print(f'Number of Division: {emp_df.Division.nunique()}')  "
   ]
  },
  {
   "cell_type": "markdown",
   "id": "b19806dd",
   "metadata": {},
   "source": [
    ">Information about the number of males and females"
   ]
  },
  {
   "cell_type": "code",
   "execution_count": 101,
   "id": "cdf2f88e",
   "metadata": {},
   "outputs": [
    {
     "data": {
      "text/plain": [
       "M    5945\n",
       "F    4154\n",
       "Name: Gender, dtype: int64"
      ]
     },
     "execution_count": 101,
     "metadata": {},
     "output_type": "execute_result"
    }
   ],
   "source": [
    "emp_df.Gender.value_counts()"
   ]
  },
  {
   "cell_type": "markdown",
   "id": "4c03c4a7",
   "metadata": {},
   "source": [
    ">Information about the cleaned data set."
   ]
  },
  {
   "cell_type": "code",
   "execution_count": 102,
   "id": "841023b2",
   "metadata": {},
   "outputs": [
    {
     "name": "stdout",
     "output_type": "stream",
     "text": [
      "<class 'pandas.core.frame.DataFrame'>\n",
      "Int64Index: 10099 entries, 0 to 10112\n",
      "Data columns (total 6 columns):\n",
      " #   Column             Non-Null Count  Dtype  \n",
      "---  ------             --------------  -----  \n",
      " 0   Department         10099 non-null  object \n",
      " 1   Dept_Name          10099 non-null  object \n",
      " 2   Division           10099 non-null  object \n",
      " 3   Gender             10099 non-null  object \n",
      " 4   Base_Salary        10099 non-null  float64\n",
      " 5   overtime_per_year  10099 non-null  float64\n",
      "dtypes: float64(2), object(4)\n",
      "memory usage: 552.3+ KB\n"
     ]
    }
   ],
   "source": [
    "emp_df.info()"
   ]
  },
  {
   "cell_type": "markdown",
   "id": "1c3ffcfe",
   "metadata": {},
   "source": [
    ">Base Salary stats"
   ]
  },
  {
   "cell_type": "code",
   "execution_count": 103,
   "id": "8942c727",
   "metadata": {},
   "outputs": [
    {
     "data": {
      "text/plain": [
       "min       4816.280000\n",
       "mean     78910.619039\n",
       "max     303091.000000\n",
       "Name: Base_Salary, dtype: float64"
      ]
     },
     "execution_count": 103,
     "metadata": {},
     "output_type": "execute_result"
    }
   ],
   "source": [
    "emp_df.Base_Salary.describe()[['min','mean', 'max']]"
   ]
  },
  {
   "cell_type": "markdown",
   "id": "41c61722",
   "metadata": {},
   "source": [
    ">Number of workers working over time"
   ]
  },
  {
   "cell_type": "code",
   "execution_count": 104,
   "id": "3f0d29d3",
   "metadata": {},
   "outputs": [
    {
     "data": {
      "text/plain": [
       "5592"
      ]
     },
     "execution_count": 104,
     "metadata": {},
     "output_type": "execute_result"
    }
   ],
   "source": [
    " (emp_df[\"overtime_per_year\"] > 100).sum()"
   ]
  },
  {
   "cell_type": "markdown",
   "id": "37db13ed",
   "metadata": {},
   "source": [
    ">Stats about overtime per year"
   ]
  },
  {
   "cell_type": "code",
   "execution_count": 105,
   "id": "057aa925",
   "metadata": {},
   "outputs": [
    {
     "data": {
      "text/plain": [
       "min          0.000000\n",
       "mean      6412.060241\n",
       "max     155034.540000\n",
       "Name: overtime_per_year, dtype: float64"
      ]
     },
     "execution_count": 105,
     "metadata": {},
     "output_type": "execute_result"
    }
   ],
   "source": [
    "emp_df[\"overtime_per_year\"].describe()[['min','mean', 'max']]"
   ]
  },
  {
   "cell_type": "markdown",
   "id": "88fc760f",
   "metadata": {},
   "source": [
    "### DATA WRANGLING"
   ]
  },
  {
   "cell_type": "markdown",
   "id": "820b9fbe",
   "metadata": {},
   "source": [
    "#### QUESTION ONE"
   ]
  },
  {
   "cell_type": "markdown",
   "id": "1595a451",
   "metadata": {},
   "source": [
    ">I'll form a new frame to contain the Divisions and thier sum of base salaries so I can compare to get the maximum"
   ]
  },
  {
   "cell_type": "code",
   "execution_count": 106,
   "id": "8ac2ec68",
   "metadata": {},
   "outputs": [],
   "source": [
    "#get each unique division and base salary sum for each.\n",
    "division_df = emp_df.groupby('Division')['Base_Salary'].sum().reset_index()\n",
    "#sort the data frame by the base salary\n",
    "division_df.sort_values(by=\"Base_Salary\",ascending=False, inplace=True)"
   ]
  },
  {
   "cell_type": "markdown",
   "id": "98d6e7c1",
   "metadata": {},
   "source": [
    "#### QUESTION TWO"
   ]
  },
  {
   "cell_type": "markdown",
   "id": "c14213a2",
   "metadata": {},
   "source": [
    ">For this question I'll get the names of the maximum and minimum departments and trim the emp_df data to contain only the two departments and thier respective genders and store in another data frame as Min and Max Gender Stats (MMGS)"
   ]
  },
  {
   "cell_type": "code",
   "execution_count": 107,
   "id": "0d4b6e0b",
   "metadata": {},
   "outputs": [],
   "source": [
    "department_df = emp_df.groupby('Department')[['Base_Salary', 'overtime_per_year']].sum().reset_index()"
   ]
  },
  {
   "cell_type": "code",
   "execution_count": 108,
   "id": "0bf06f8e",
   "metadata": {},
   "outputs": [],
   "source": [
    "#get the names of the maximum and minimum departments and store in two variables\n",
    "max_dept = department_df[department_df['Base_Salary']==department_df.Base_Salary.max()][[\"Department\"]].reset_index()[\"Department\"][0]\n",
    "min_dept = department_df[department_df['Base_Salary']==department_df.Base_Salary.min()][[\"Department\"]].reset_index()[\"Department\"][0]\n",
    "\n"
   ]
  },
  {
   "cell_type": "code",
   "execution_count": 109,
   "id": "56449897",
   "metadata": {},
   "outputs": [
    {
     "data": {
      "text/html": [
       "<div>\n",
       "<style scoped>\n",
       "    .dataframe tbody tr th:only-of-type {\n",
       "        vertical-align: middle;\n",
       "    }\n",
       "\n",
       "    .dataframe tbody tr th {\n",
       "        vertical-align: top;\n",
       "    }\n",
       "\n",
       "    .dataframe thead th {\n",
       "        text-align: right;\n",
       "    }\n",
       "</style>\n",
       "<table border=\"1\" class=\"dataframe\">\n",
       "  <thead>\n",
       "    <tr style=\"text-align: right;\">\n",
       "      <th></th>\n",
       "      <th>Department</th>\n",
       "      <th>Gender</th>\n",
       "    </tr>\n",
       "  </thead>\n",
       "  <tbody>\n",
       "    <tr>\n",
       "      <th>count</th>\n",
       "      <td>2044</td>\n",
       "      <td>2044</td>\n",
       "    </tr>\n",
       "    <tr>\n",
       "      <th>unique</th>\n",
       "      <td>2</td>\n",
       "      <td>2</td>\n",
       "    </tr>\n",
       "    <tr>\n",
       "      <th>top</th>\n",
       "      <td>POL</td>\n",
       "      <td>M</td>\n",
       "    </tr>\n",
       "    <tr>\n",
       "      <th>freq</th>\n",
       "      <td>2042</td>\n",
       "      <td>1267</td>\n",
       "    </tr>\n",
       "  </tbody>\n",
       "</table>\n",
       "</div>"
      ],
      "text/plain": [
       "       Department Gender\n",
       "count        2044   2044\n",
       "unique          2      2\n",
       "top           POL      M\n",
       "freq         2042   1267"
      ]
     },
     "execution_count": 109,
     "metadata": {},
     "output_type": "execute_result"
    }
   ],
   "source": [
    "MMGS.describe()"
   ]
  },
  {
   "cell_type": "code",
   "execution_count": null,
   "id": "861db65c",
   "metadata": {},
   "outputs": [],
   "source": []
  },
  {
   "cell_type": "code",
   "execution_count": 110,
   "id": "54ee8561",
   "metadata": {},
   "outputs": [],
   "source": [
    "#queried the department and Gender for the min and max departments\n",
    "values=[max_dept,min_dept]\n",
    "MMGS = emp_df.query(\"Department in @values\")[['Department', 'Gender']]"
   ]
  },
  {
   "cell_type": "markdown",
   "id": "1e26f9bc",
   "metadata": {},
   "source": [
    "#### QUESTION THREE"
   ]
  },
  {
   "cell_type": "markdown",
   "id": "2878eed2",
   "metadata": {},
   "source": [
    ">The main idea I have here is that, if the yearly base salary(base salary * 12) of the minimum worker per department is higher than the total over time per year, then that department doesn't really need additional workders. Since the overtime is not much enough up to that of the minimum paid worker. so hiring a worker will not help. but the number of times by which the overtime is more than the yearly base salary of a worker is an approximation of the number of additional workers needed. So\n",
    "\n",
    ">Here i'll get  base salries for each department and the over time for each departmen. Merge them together after which I'll divide the over time by the base salary to get the approximate number of additional workers needed per department\n",
    "\n",
    ">*The assumption here is that the base salary of a worker is per month*"
   ]
  },
  {
   "cell_type": "code",
   "execution_count": 111,
   "id": "ae10bef0",
   "metadata": {},
   "outputs": [
    {
     "data": {
      "text/html": [
       "<div>\n",
       "<style scoped>\n",
       "    .dataframe tbody tr th:only-of-type {\n",
       "        vertical-align: middle;\n",
       "    }\n",
       "\n",
       "    .dataframe tbody tr th {\n",
       "        vertical-align: top;\n",
       "    }\n",
       "\n",
       "    .dataframe thead th {\n",
       "        text-align: right;\n",
       "    }\n",
       "</style>\n",
       "<table border=\"1\" class=\"dataframe\">\n",
       "  <thead>\n",
       "    <tr style=\"text-align: right;\">\n",
       "      <th></th>\n",
       "      <th>Department</th>\n",
       "      <th>Base_Salary</th>\n",
       "    </tr>\n",
       "  </thead>\n",
       "  <tbody>\n",
       "    <tr>\n",
       "      <th>0</th>\n",
       "      <td>BOA</td>\n",
       "      <td>58481.91</td>\n",
       "    </tr>\n",
       "    <tr>\n",
       "      <th>1</th>\n",
       "      <td>BOE</td>\n",
       "      <td>37506.00</td>\n",
       "    </tr>\n",
       "    <tr>\n",
       "      <th>2</th>\n",
       "      <td>CAT</td>\n",
       "      <td>20470.01</td>\n",
       "    </tr>\n",
       "    <tr>\n",
       "      <th>3</th>\n",
       "      <td>CCL</td>\n",
       "      <td>31441.07</td>\n",
       "    </tr>\n",
       "    <tr>\n",
       "      <th>4</th>\n",
       "      <td>CEC</td>\n",
       "      <td>20718.12</td>\n",
       "    </tr>\n",
       "  </tbody>\n",
       "</table>\n",
       "</div>"
      ],
      "text/plain": [
       "  Department  Base_Salary\n",
       "0        BOA     58481.91\n",
       "1        BOE     37506.00\n",
       "2        CAT     20470.01\n",
       "3        CCL     31441.07\n",
       "4        CEC     20718.12"
      ]
     },
     "execution_count": 111,
     "metadata": {},
     "output_type": "execute_result"
    }
   ],
   "source": [
    "#get the data frame for the minimum bse salary of each department\n",
    "dep_min_base_salary = emp_df.groupby('Department')['Base_Salary'].min().reset_index()\n",
    "dep_min_base_salary.head(5)"
   ]
  },
  {
   "cell_type": "markdown",
   "id": "486ad484",
   "metadata": {},
   "source": []
  },
  {
   "cell_type": "code",
   "execution_count": 112,
   "id": "c1a8e9d0",
   "metadata": {},
   "outputs": [
    {
     "data": {
      "text/html": [
       "<div>\n",
       "<style scoped>\n",
       "    .dataframe tbody tr th:only-of-type {\n",
       "        vertical-align: middle;\n",
       "    }\n",
       "\n",
       "    .dataframe tbody tr th {\n",
       "        vertical-align: top;\n",
       "    }\n",
       "\n",
       "    .dataframe thead th {\n",
       "        text-align: right;\n",
       "    }\n",
       "</style>\n",
       "<table border=\"1\" class=\"dataframe\">\n",
       "  <thead>\n",
       "    <tr style=\"text-align: right;\">\n",
       "      <th></th>\n",
       "      <th>Department</th>\n",
       "      <th>overtime_per_year</th>\n",
       "    </tr>\n",
       "  </thead>\n",
       "  <tbody>\n",
       "    <tr>\n",
       "      <th>0</th>\n",
       "      <td>BOA</td>\n",
       "      <td>0.00</td>\n",
       "    </tr>\n",
       "    <tr>\n",
       "      <th>1</th>\n",
       "      <td>BOE</td>\n",
       "      <td>2329.81</td>\n",
       "    </tr>\n",
       "    <tr>\n",
       "      <th>2</th>\n",
       "      <td>CAT</td>\n",
       "      <td>4197.13</td>\n",
       "    </tr>\n",
       "    <tr>\n",
       "      <th>3</th>\n",
       "      <td>CCL</td>\n",
       "      <td>3398.09</td>\n",
       "    </tr>\n",
       "    <tr>\n",
       "      <th>4</th>\n",
       "      <td>CEC</td>\n",
       "      <td>226799.18</td>\n",
       "    </tr>\n",
       "  </tbody>\n",
       "</table>\n",
       "</div>"
      ],
      "text/plain": [
       "  Department  overtime_per_year\n",
       "0        BOA               0.00\n",
       "1        BOE            2329.81\n",
       "2        CAT            4197.13\n",
       "3        CCL            3398.09\n",
       "4        CEC          226799.18"
      ]
     },
     "execution_count": 112,
     "metadata": {},
     "output_type": "execute_result"
    }
   ],
   "source": [
    "#get the ovetime for each department\n",
    "department_overtime = emp_df.groupby('Department')['overtime_per_year'].sum().reset_index()\n",
    "department_overtime.head(5)"
   ]
  },
  {
   "cell_type": "code",
   "execution_count": 113,
   "id": "77f592ef",
   "metadata": {},
   "outputs": [],
   "source": [
    "#merging the two data\n",
    "merged_data = pd.merge(dep_min_base_salary, department_overtime, on='Department')"
   ]
  },
  {
   "cell_type": "code",
   "execution_count": 114,
   "id": "a6466c88",
   "metadata": {},
   "outputs": [],
   "source": [
    "#calculating the approximate number of additional workder for each department\n",
    "merged_data['Approx_add_Workers'] = (merged_data['overtime_per_year']/(merged_data['Base_Salary']*12)).astype(int)"
   ]
  },
  {
   "cell_type": "markdown",
   "id": "feda59a1",
   "metadata": {},
   "source": [
    ">The approximate number of additional workers needed is kept as an integer from a float value whoes decimal part is simply cut off. If there is a decimal part, this means paying an additional worker will require a base salary less than the least paid worker or it will encure overspending if the minimum base salary is paid to this worker(assuming that the minimum paid worker recieves the least possible payment) however, this means that the workers will have to work extra hours, but the number of extra hours will not be as much as before if the other workers are added\n"
   ]
  },
  {
   "cell_type": "code",
   "execution_count": 115,
   "id": "3d01b105",
   "metadata": {},
   "outputs": [],
   "source": [
    "Dept_in_need_of_workers = merged_data[merged_data[\"Approx_add_Workers\"]>0][['Department', 'Approx_add_Workers']]"
   ]
  },
  {
   "cell_type": "code",
   "execution_count": null,
   "id": "fc39d35c",
   "metadata": {},
   "outputs": [],
   "source": []
  },
  {
   "cell_type": "markdown",
   "id": "f0d065ea",
   "metadata": {},
   "source": [
    "### EXPLORATIONS "
   ]
  },
  {
   "cell_type": "markdown",
   "id": "9ea44a79",
   "metadata": {},
   "source": [
    ">The two tables below give the descriptive statitics of the empolyee data for base salray and overtime per year."
   ]
  },
  {
   "cell_type": "code",
   "execution_count": 116,
   "id": "abcbef9a",
   "metadata": {},
   "outputs": [
    {
     "data": {
      "text/html": [
       "<div>\n",
       "<style scoped>\n",
       "    .dataframe tbody tr th:only-of-type {\n",
       "        vertical-align: middle;\n",
       "    }\n",
       "\n",
       "    .dataframe tbody tr th {\n",
       "        vertical-align: top;\n",
       "    }\n",
       "\n",
       "    .dataframe thead th {\n",
       "        text-align: right;\n",
       "    }\n",
       "</style>\n",
       "<table border=\"1\" class=\"dataframe\">\n",
       "  <thead>\n",
       "    <tr style=\"text-align: right;\">\n",
       "      <th></th>\n",
       "      <th>Base_Salary</th>\n",
       "      <th>overtime_per_year</th>\n",
       "    </tr>\n",
       "  </thead>\n",
       "  <tbody>\n",
       "    <tr>\n",
       "      <th>count</th>\n",
       "      <td>10099.000000</td>\n",
       "      <td>10099.000000</td>\n",
       "    </tr>\n",
       "    <tr>\n",
       "      <th>mean</th>\n",
       "      <td>78910.619039</td>\n",
       "      <td>6412.060241</td>\n",
       "    </tr>\n",
       "    <tr>\n",
       "      <th>std</th>\n",
       "      <td>30667.628460</td>\n",
       "      <td>12572.832421</td>\n",
       "    </tr>\n",
       "    <tr>\n",
       "      <th>min</th>\n",
       "      <td>4816.280000</td>\n",
       "      <td>0.000000</td>\n",
       "    </tr>\n",
       "    <tr>\n",
       "      <th>25%</th>\n",
       "      <td>56138.000000</td>\n",
       "      <td>0.000000</td>\n",
       "    </tr>\n",
       "    <tr>\n",
       "      <th>50%</th>\n",
       "      <td>75290.000000</td>\n",
       "      <td>478.360000</td>\n",
       "    </tr>\n",
       "    <tr>\n",
       "      <th>75%</th>\n",
       "      <td>94938.860000</td>\n",
       "      <td>7763.425000</td>\n",
       "    </tr>\n",
       "    <tr>\n",
       "      <th>max</th>\n",
       "      <td>303091.000000</td>\n",
       "      <td>155034.540000</td>\n",
       "    </tr>\n",
       "  </tbody>\n",
       "</table>\n",
       "</div>"
      ],
      "text/plain": [
       "         Base_Salary  overtime_per_year\n",
       "count   10099.000000       10099.000000\n",
       "mean    78910.619039        6412.060241\n",
       "std     30667.628460       12572.832421\n",
       "min      4816.280000           0.000000\n",
       "25%     56138.000000           0.000000\n",
       "50%     75290.000000         478.360000\n",
       "75%     94938.860000        7763.425000\n",
       "max    303091.000000      155034.540000"
      ]
     },
     "execution_count": 116,
     "metadata": {},
     "output_type": "execute_result"
    }
   ],
   "source": [
    "emp_df.describe()"
   ]
  },
  {
   "cell_type": "code",
   "execution_count": 117,
   "id": "d84f0c20",
   "metadata": {},
   "outputs": [
    {
     "name": "stdout",
     "output_type": "stream",
     "text": [
      "<class 'pandas.core.frame.DataFrame'>\n",
      "Int64Index: 10099 entries, 0 to 10112\n",
      "Data columns (total 6 columns):\n",
      " #   Column             Non-Null Count  Dtype  \n",
      "---  ------             --------------  -----  \n",
      " 0   Department         10099 non-null  object \n",
      " 1   Dept_Name          10099 non-null  object \n",
      " 2   Division           10099 non-null  object \n",
      " 3   Gender             10099 non-null  object \n",
      " 4   Base_Salary        10099 non-null  float64\n",
      " 5   overtime_per_year  10099 non-null  float64\n",
      "dtypes: float64(2), object(4)\n",
      "memory usage: 552.3+ KB\n"
     ]
    }
   ],
   "source": [
    "emp_df.info()"
   ]
  },
  {
   "cell_type": "markdown",
   "id": "7c2a8b67",
   "metadata": {},
   "source": [
    ">The total spending on the payment of workers per year will be the sum of total overtime per year  and total base salary per year. For this whole exploration an analysis, the assumption is that the base salary given, is a monthly base. for this reason the base salary per year will require a multiplication by 12."
   ]
  },
  {
   "cell_type": "code",
   "execution_count": 118,
   "id": "d6fd4460",
   "metadata": {},
   "outputs": [
    {
     "name": "stdout",
     "output_type": "stream",
     "text": [
      "9627775496.410002\n"
     ]
    }
   ],
   "source": [
    "total_spending = emp_df.Base_Salary.sum() * 12 + emp_df.overtime_per_year.sum()\n",
    "print(total_spending)"
   ]
  },
  {
   "cell_type": "markdown",
   "id": "06dc9129",
   "metadata": {},
   "source": [
    ">The percentage of this total contributed by overtime will be \n"
   ]
  },
  {
   "cell_type": "code",
   "execution_count": 119,
   "id": "b695dcff",
   "metadata": {},
   "outputs": [
    {
     "name": "stdout",
     "output_type": "stream",
     "text": [
      "0.672589388838013\n"
     ]
    }
   ],
   "source": [
    "print((emp_df.overtime_per_year.sum()*100/total_spending))\n"
   ]
  },
  {
   "cell_type": "markdown",
   "id": "d4bc477a",
   "metadata": {},
   "source": [
    ">The division_df data was sorted in descending order so the first record will be that of the hishgest paying division."
   ]
  },
  {
   "cell_type": "code",
   "execution_count": 120,
   "id": "6c740390",
   "metadata": {},
   "outputs": [
    {
     "data": {
      "text/html": [
       "<div>\n",
       "<style scoped>\n",
       "    .dataframe tbody tr th:only-of-type {\n",
       "        vertical-align: middle;\n",
       "    }\n",
       "\n",
       "    .dataframe tbody tr th {\n",
       "        vertical-align: top;\n",
       "    }\n",
       "\n",
       "    .dataframe thead th {\n",
       "        text-align: right;\n",
       "    }\n",
       "</style>\n",
       "<table border=\"1\" class=\"dataframe\">\n",
       "  <thead>\n",
       "    <tr style=\"text-align: right;\">\n",
       "      <th></th>\n",
       "      <th>Division</th>\n",
       "      <th>Base_Salary</th>\n",
       "    </tr>\n",
       "  </thead>\n",
       "  <tbody>\n",
       "    <tr>\n",
       "      <th>562</th>\n",
       "      <td>School Health Services</td>\n",
       "      <td>21098371.44</td>\n",
       "    </tr>\n",
       "  </tbody>\n",
       "</table>\n",
       "</div>"
      ],
      "text/plain": [
       "                   Division  Base_Salary\n",
       "562  School Health Services  21098371.44"
      ]
     },
     "execution_count": 120,
     "metadata": {},
     "output_type": "execute_result"
    }
   ],
   "source": [
    "division_df.head(1)"
   ]
  },
  {
   "cell_type": "markdown",
   "id": "7484d659",
   "metadata": {},
   "source": [
    ">I want to plot a graph to show the relationship between males and females for the highest and lowest paying department. For this I'll need the males and females for both department. I'll writhe a function that takes in a department and the sex and returns the population of that sex in that department.  "
   ]
  },
  {
   "cell_type": "code",
   "execution_count": 121,
   "id": "399b0f7a",
   "metadata": {},
   "outputs": [],
   "source": [
    "#function that gets the total number of people given sex and department\n",
    "def get_num(dep, sex):\n",
    "    return len((MMGS[MMGS['Department']+ MMGS['Gender'] == dep + sex]))\n",
    "    \n",
    "\n"
   ]
  },
  {
   "cell_type": "markdown",
   "id": "2bf5d7fb",
   "metadata": {},
   "source": [
    ">*min_dept* and *max_dept* are variables holding the name of the minimum department and maximum department."
   ]
  },
  {
   "cell_type": "code",
   "execution_count": 122,
   "id": "9ad564ce",
   "metadata": {},
   "outputs": [
    {
     "data": {
      "image/png": "[encoded data removed]",
      "text/plain": [
       "<Figure size 432x288 with 1 Axes>"
      ]
     },
     "metadata": {
      "needs_background": "light"
     },
     "output_type": "display_data"
    }
   ],
   "source": [
    "#ploting the graph to show the sex destribution in the lowest and highest paying department \n",
    "N = 2\n",
    "ind = np.arange(N) \n",
    "width = .25\n",
    "  \n",
    "min_dep = [get_num(min_dept,'M'),  get_num(min_dept,'F')]\n",
    "bar1 = plt.bar(ind+width, min_dep, width, color='g')\n",
    "  \n",
    "max_dep = [get_num(max_dept,'M'), get_num(max_dept,'F')]\n",
    "bar2 = plt.bar(ind+width*2, max_dep, width, color = 'y')\n",
    "  \n",
    "plt.xlabel(\"department\")\n",
    "plt.ylabel('count')\n",
    "plt.title(\"Sex Destribution for highest department\")\n",
    "  \n",
    "plt.xticks(ind+width,['Male',  'Female'])\n",
    "plt.legend( (bar1, bar2), ('POL,min', 'MBP,max') )\n",
    "plt.show()"
   ]
  },
  {
   "cell_type": "markdown",
   "id": "53bd80c9",
   "metadata": {},
   "source": [
    ">Surprisingly, nothing shows(no green on the graph) for the minimum department. To check I'll print the value of min_dep which should contain the number of males and females in the minimun department as an array."
   ]
  },
  {
   "cell_type": "code",
   "execution_count": 123,
   "id": "52960919",
   "metadata": {},
   "outputs": [
    {
     "name": "stdout",
     "output_type": "stream",
     "text": [
      "[1, 1]\n",
      "[1266, 776]\n"
     ]
    }
   ],
   "source": [
    "print(min_dep)\n",
    "print(max_dep)"
   ]
  },
  {
   "cell_type": "markdown",
   "id": "99fa89aa",
   "metadata": {},
   "source": [
    ">This makes sense now. Since the values are very low, we can't see them\n",
    "\n",
    ">Concerning the number departments needing additional workers, I've ploted the graph of the table \n",
    "'Dept_in_need_of_workers'. This goes ahead of just pointing out the needy departments to suggesting the number of workers needed"
   ]
  },
  {
   "cell_type": "code",
   "execution_count": 124,
   "id": "1ec7aea2",
   "metadata": {},
   "outputs": [
    {
     "data": {
      "text/plain": [
       "Text(0.5, 1.0, 'Additional workers distribution')"
      ]
     },
     "execution_count": 124,
     "metadata": {},
     "output_type": "execute_result"
    },
    {
     "data": {
      "image/png": "[encoded data removed]",
      "text/plain": [
       "<Figure size 432x288 with 1 Axes>"
      ]
     },
     "metadata": {
      "needs_background": "light"
     },
     "output_type": "display_data"
    }
   ],
   "source": [
    "Dept_in_need_of_workers.plot(kind='bar')\n",
    "plt.xlabel('Departments')\n",
    "plt.ylabel('Number of Additional Workers')\n",
    "plt.title(\"Additional workers distribution\")"
   ]
  },
  {
   "cell_type": "markdown",
   "id": "719bf2f3",
   "metadata": {},
   "source": [
    ">From the graph we can see the number of departments(number of bars) needing additional workers and the approximate number of workers needed for each department(height of each bar). \n",
    "\n",
    ">In order to see the exact number for each department, i'll print the table"
   ]
  },
  {
   "cell_type": "code",
   "execution_count": 125,
   "id": "9ab13001",
   "metadata": {},
   "outputs": [
    {
     "data": {
      "text/html": [
       "<div>\n",
       "<style scoped>\n",
       "    .dataframe tbody tr th:only-of-type {\n",
       "        vertical-align: middle;\n",
       "    }\n",
       "\n",
       "    .dataframe tbody tr th {\n",
       "        vertical-align: top;\n",
       "    }\n",
       "\n",
       "    .dataframe thead th {\n",
       "        text-align: right;\n",
       "    }\n",
       "</style>\n",
       "<table border=\"1\" class=\"dataframe\">\n",
       "  <thead>\n",
       "    <tr style=\"text-align: right;\">\n",
       "      <th></th>\n",
       "      <th>Department</th>\n",
       "      <th>Approx_add_Workers</th>\n",
       "    </tr>\n",
       "  </thead>\n",
       "  <tbody>\n",
       "    <tr>\n",
       "      <th>6</th>\n",
       "      <td>COR</td>\n",
       "      <td>18</td>\n",
       "    </tr>\n",
       "    <tr>\n",
       "      <th>8</th>\n",
       "      <td>DEP</td>\n",
       "      <td>1</td>\n",
       "    </tr>\n",
       "    <tr>\n",
       "      <th>9</th>\n",
       "      <td>DGS</td>\n",
       "      <td>5</td>\n",
       "    </tr>\n",
       "    <tr>\n",
       "      <th>11</th>\n",
       "      <td>DLC</td>\n",
       "      <td>4</td>\n",
       "    </tr>\n",
       "    <tr>\n",
       "      <th>12</th>\n",
       "      <td>DOT</td>\n",
       "      <td>58</td>\n",
       "    </tr>\n",
       "    <tr>\n",
       "      <th>13</th>\n",
       "      <td>DPS</td>\n",
       "      <td>1</td>\n",
       "    </tr>\n",
       "    <tr>\n",
       "      <th>17</th>\n",
       "      <td>FRS</td>\n",
       "      <td>55</td>\n",
       "    </tr>\n",
       "    <tr>\n",
       "      <th>19</th>\n",
       "      <td>HHS</td>\n",
       "      <td>17</td>\n",
       "    </tr>\n",
       "    <tr>\n",
       "      <th>32</th>\n",
       "      <td>POL</td>\n",
       "      <td>56</td>\n",
       "    </tr>\n",
       "    <tr>\n",
       "      <th>35</th>\n",
       "      <td>SHF</td>\n",
       "      <td>2</td>\n",
       "    </tr>\n",
       "  </tbody>\n",
       "</table>\n",
       "</div>"
      ],
      "text/plain": [
       "   Department  Approx_add_Workers\n",
       "6         COR                  18\n",
       "8         DEP                   1\n",
       "9         DGS                   5\n",
       "11        DLC                   4\n",
       "12        DOT                  58\n",
       "13        DPS                   1\n",
       "17        FRS                  55\n",
       "19        HHS                  17\n",
       "32        POL                  56\n",
       "35        SHF                   2"
      ]
     },
     "execution_count": 125,
     "metadata": {},
     "output_type": "execute_result"
    }
   ],
   "source": [
    "Dept_in_need_of_workers"
   ]
  },
  {
   "cell_type": "markdown",
   "id": "5b934f45",
   "metadata": {},
   "source": [
    "### CONCLUSION\n",
    "\n"
   ]
  },
  {
   "cell_type": "markdown",
   "id": "06f2d300",
   "metadata": {},
   "source": [
    ">The government has spent a total of 9637543025.410002 dollars and 0.673% of this total came from overtime.\n",
    ">A total of 10113 records existed however, the column Dept Name and Base Salary had missing values for four records each. While Department had missing values for 6 records. After editing, the total number of records analysed is 10099.\n",
    "\n",
    ">School Health Services is the highest paying division with a total base salary of 21098371.44 dollars\n",
    "\n",
    ">The highest paying department is MBP and the lowest is POL. Only two people work in the least paying department. A male and a female while in the maximum paying department, females are just a fraction of males. And over two thousand workers work there. In order words, many more males work at MBP.\n",
    "\n",
    ">A total of 10 departments need additional workers. DOT, FRS ad POL are the highest in need requiring about 60 additional workers each, COR and HHS follow requiring 18 and 17 workers respectively while DGS, and DLS, require just about five additional workers then DEP, DPS and SHF will need just one or two additional workers.\n",
    "\n"
   ]
  }
 ],
 "metadata": {
  "kernelspec": {
   "display_name": "Python 3 (ipykernel)",
   "language": "python",
   "name": "python3"
  },
  "language_info": {
   "codemirror_mode": {
    "name": "ipython",
    "version": 3
   },
   "file_extension": ".py",
   "mimetype": "text/x-python",
   "name": "python",
   "nbconvert_exporter": "python",
   "pygments_lexer": "ipython3",
   "version": "3.9.12"
  }
 },
 "nbformat": 4,
 "nbformat_minor": 5
}
